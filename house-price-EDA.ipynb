{
 "cells": [
  {
   "cell_type": "markdown",
   "metadata": {},
   "source": [
    "# Exploratory Data Analysis for House Price Dataset in Kaggle \n",
    "Created on September 4, 2024 \n",
    "\n",
    "Author: Xin (David) Zhao \n",
    "\n",
    "Example [notebook 1](https://www.kaggle.com/code/pmarcelino/comprehensive-data-exploration-with-python) \n",
    "\n",
    "Example [notebook 2](https://www.kaggle.com/code/gusthema/house-prices-prediction-using-tfdf/notebook) \n",
    "\n",
    "[Pandas cookbook](https://pandas.pydata.org/docs/user_guide/cookbook.html)\n",
    "\n"
   ]
  },
  {
   "cell_type": "markdown",
   "metadata": {},
   "source": [
    "## Introduction to House Price Dataset \n",
    "\n",
    "The dataset contains 79 explanatory variables describing (almost) every aspect of residential homes in Ames, Iowa. \n",
    "\n",
    "The competition project where the dataset derives from challenges students to predict the final price of each home. \n"
   ]
  },
  {
   "cell_type": "markdown",
   "metadata": {},
   "source": [
    "## EDA Steps\n",
    "\n",
    "The EDA steps ensure dataset is well-prepared for modeling. \n",
    "\n",
    "1. Load data: Use `pandas` to load datasets from CSV, Excel or other forms  \n",
    "2. Initial data overview: Inspect data structure and check the first few rows, columns, and data types  \n",
    "3. Check for missing values: Identify missing values with `pandas` \n",
    "4. Handling missing data: Drop missing values, fill with mean/ median/ mode, or use more advanced methods such as KNN imputations\n",
    "5. Identify and handle duplicates: Check for and remove duplicate rows\n",
    "6. Outlier detection and handling: Use box plots or scatter plots to visually detect outliers; remove, transform, or use robust models less sensitive to outliers \n",
    "7. Feature analysis and data visualization: Visualize distribution - use histogram, KDE plots, or count plots for categorical variables; Correlation analysis - use a correlation matrix to identify relationships between numerical features \n",
    "8. Handle incorrect data types: Convert data types if necessary (eg. dates, categories)\n",
    "9. Encode categorical variables: One-hot encoding - for nominal categorical variables; Label encoding - for ordinal categorical variables \n",
    "10. Scaling and normalization: Normalize or standardize features using `StandardScaler` or `MinMaxScaler` from `scikit-learn` for better performance in some models \n",
    "11. Feature analysis and selection: Identify features with low variance or high multicollinearity and consider removing them "
   ]
  },
  {
   "cell_type": "markdown",
   "metadata": {
    "vscode": {
     "languageId": "plaintext"
    }
   },
   "source": [
    "## Import necessary modules \n"
   ]
  },
  {
   "cell_type": "code",
   "execution_count": 89,
   "metadata": {},
   "outputs": [],
   "source": [
    "import pandas as pd \n",
    "import numpy as np\n",
    "import matplotlib.pyplot as plt # for making plots \n",
    "import seaborn as sns # for making plots with seaborn "
   ]
  },
  {
   "cell_type": "markdown",
   "metadata": {},
   "source": [
    "- `Numpy` Learn: [Link](https://numpy.org/learn/)\n",
    "- 10 min to `pandas`: [Link](https://pandas.pydata.org/docs/user_guide/10min.html)\n",
    "- Quick start guide to `matplotlib`: [Link](https://matplotlib.org/stable/users/explain/quick_start.html#quick-start) \n",
    "- Introductory notes to `seaborn`: [Link](https://seaborn.pydata.org/tutorial/introduction.html) "
   ]
  },
  {
   "cell_type": "markdown",
   "metadata": {
    "vscode": {
     "languageId": "plaintext"
    }
   },
   "source": [
    "## Step 1: Load Data"
   ]
  },
  {
   "cell_type": "code",
   "execution_count": 90,
   "metadata": {},
   "outputs": [],
   "source": [
    "train_df = pd.read_csv('data/train.csv') # read the training data "
   ]
  },
  {
   "cell_type": "markdown",
   "metadata": {},
   "source": [
    "## Step 2: Initial Data Overview"
   ]
  },
  {
   "cell_type": "code",
   "execution_count": 91,
   "metadata": {},
   "outputs": [
    {
     "name": "stdout",
     "output_type": "stream",
     "text": [
      "<class 'pandas.core.frame.DataFrame'>\n",
      "RangeIndex: 1460 entries, 0 to 1459\n",
      "Data columns (total 81 columns):\n",
      " #   Column         Non-Null Count  Dtype  \n",
      "---  ------         --------------  -----  \n",
      " 0   Id             1460 non-null   int64  \n",
      " 1   MSSubClass     1460 non-null   int64  \n",
      " 2   MSZoning       1460 non-null   object \n",
      " 3   LotFrontage    1201 non-null   float64\n",
      " 4   LotArea        1460 non-null   int64  \n",
      " 5   Street         1460 non-null   object \n",
      " 6   Alley          91 non-null     object \n",
      " 7   LotShape       1460 non-null   object \n",
      " 8   LandContour    1460 non-null   object \n",
      " 9   Utilities      1460 non-null   object \n",
      " 10  LotConfig      1460 non-null   object \n",
      " 11  LandSlope      1460 non-null   object \n",
      " 12  Neighborhood   1460 non-null   object \n",
      " 13  Condition1     1460 non-null   object \n",
      " 14  Condition2     1460 non-null   object \n",
      " 15  BldgType       1460 non-null   object \n",
      " 16  HouseStyle     1460 non-null   object \n",
      " 17  OverallQual    1460 non-null   int64  \n",
      " 18  OverallCond    1460 non-null   int64  \n",
      " 19  YearBuilt      1460 non-null   int64  \n",
      " 20  YearRemodAdd   1460 non-null   int64  \n",
      " 21  RoofStyle      1460 non-null   object \n",
      " 22  RoofMatl       1460 non-null   object \n",
      " 23  Exterior1st    1460 non-null   object \n",
      " 24  Exterior2nd    1460 non-null   object \n",
      " 25  MasVnrType     588 non-null    object \n",
      " 26  MasVnrArea     1452 non-null   float64\n",
      " 27  ExterQual      1460 non-null   object \n",
      " 28  ExterCond      1460 non-null   object \n",
      " 29  Foundation     1460 non-null   object \n",
      " 30  BsmtQual       1423 non-null   object \n",
      " 31  BsmtCond       1423 non-null   object \n",
      " 32  BsmtExposure   1422 non-null   object \n",
      " 33  BsmtFinType1   1423 non-null   object \n",
      " 34  BsmtFinSF1     1460 non-null   int64  \n",
      " 35  BsmtFinType2   1422 non-null   object \n",
      " 36  BsmtFinSF2     1460 non-null   int64  \n",
      " 37  BsmtUnfSF      1460 non-null   int64  \n",
      " 38  TotalBsmtSF    1460 non-null   int64  \n",
      " 39  Heating        1460 non-null   object \n",
      " 40  HeatingQC      1460 non-null   object \n",
      " 41  CentralAir     1460 non-null   object \n",
      " 42  Electrical     1459 non-null   object \n",
      " 43  1stFlrSF       1460 non-null   int64  \n",
      " 44  2ndFlrSF       1460 non-null   int64  \n",
      " 45  LowQualFinSF   1460 non-null   int64  \n",
      " 46  GrLivArea      1460 non-null   int64  \n",
      " 47  BsmtFullBath   1460 non-null   int64  \n",
      " 48  BsmtHalfBath   1460 non-null   int64  \n",
      " 49  FullBath       1460 non-null   int64  \n",
      " 50  HalfBath       1460 non-null   int64  \n",
      " 51  BedroomAbvGr   1460 non-null   int64  \n",
      " 52  KitchenAbvGr   1460 non-null   int64  \n",
      " 53  KitchenQual    1460 non-null   object \n",
      " 54  TotRmsAbvGrd   1460 non-null   int64  \n",
      " 55  Functional     1460 non-null   object \n",
      " 56  Fireplaces     1460 non-null   int64  \n",
      " 57  FireplaceQu    770 non-null    object \n",
      " 58  GarageType     1379 non-null   object \n",
      " 59  GarageYrBlt    1379 non-null   float64\n",
      " 60  GarageFinish   1379 non-null   object \n",
      " 61  GarageCars     1460 non-null   int64  \n",
      " 62  GarageArea     1460 non-null   int64  \n",
      " 63  GarageQual     1379 non-null   object \n",
      " 64  GarageCond     1379 non-null   object \n",
      " 65  PavedDrive     1460 non-null   object \n",
      " 66  WoodDeckSF     1460 non-null   int64  \n",
      " 67  OpenPorchSF    1460 non-null   int64  \n",
      " 68  EnclosedPorch  1460 non-null   int64  \n",
      " 69  3SsnPorch      1460 non-null   int64  \n",
      " 70  ScreenPorch    1460 non-null   int64  \n",
      " 71  PoolArea       1460 non-null   int64  \n",
      " 72  PoolQC         7 non-null      object \n",
      " 73  Fence          281 non-null    object \n",
      " 74  MiscFeature    54 non-null     object \n",
      " 75  MiscVal        1460 non-null   int64  \n",
      " 76  MoSold         1460 non-null   int64  \n",
      " 77  YrSold         1460 non-null   int64  \n",
      " 78  SaleType       1460 non-null   object \n",
      " 79  SaleCondition  1460 non-null   object \n",
      " 80  SalePrice      1460 non-null   int64  \n",
      "dtypes: float64(3), int64(35), object(43)\n",
      "memory usage: 924.0+ KB\n"
     ]
    }
   ],
   "source": [
    "# Inspect the data structure \n",
    "train_df.info() # get a summary of the data structure "
   ]
  },
  {
   "cell_type": "code",
   "execution_count": 92,
   "metadata": {},
   "outputs": [
    {
     "data": {
      "text/html": [
       "<div>\n",
       "<style scoped>\n",
       "    .dataframe tbody tr th:only-of-type {\n",
       "        vertical-align: middle;\n",
       "    }\n",
       "\n",
       "    .dataframe tbody tr th {\n",
       "        vertical-align: top;\n",
       "    }\n",
       "\n",
       "    .dataframe thead th {\n",
       "        text-align: right;\n",
       "    }\n",
       "</style>\n",
       "<table border=\"1\" class=\"dataframe\">\n",
       "  <thead>\n",
       "    <tr style=\"text-align: right;\">\n",
       "      <th></th>\n",
       "      <th>Id</th>\n",
       "      <th>MSSubClass</th>\n",
       "      <th>MSZoning</th>\n",
       "      <th>LotFrontage</th>\n",
       "      <th>LotArea</th>\n",
       "      <th>Street</th>\n",
       "      <th>Alley</th>\n",
       "      <th>LotShape</th>\n",
       "      <th>LandContour</th>\n",
       "      <th>Utilities</th>\n",
       "      <th>...</th>\n",
       "      <th>PoolArea</th>\n",
       "      <th>PoolQC</th>\n",
       "      <th>Fence</th>\n",
       "      <th>MiscFeature</th>\n",
       "      <th>MiscVal</th>\n",
       "      <th>MoSold</th>\n",
       "      <th>YrSold</th>\n",
       "      <th>SaleType</th>\n",
       "      <th>SaleCondition</th>\n",
       "      <th>SalePrice</th>\n",
       "    </tr>\n",
       "  </thead>\n",
       "  <tbody>\n",
       "    <tr>\n",
       "      <th>0</th>\n",
       "      <td>1</td>\n",
       "      <td>60</td>\n",
       "      <td>RL</td>\n",
       "      <td>65.0</td>\n",
       "      <td>8450</td>\n",
       "      <td>Pave</td>\n",
       "      <td>NaN</td>\n",
       "      <td>Reg</td>\n",
       "      <td>Lvl</td>\n",
       "      <td>AllPub</td>\n",
       "      <td>...</td>\n",
       "      <td>0</td>\n",
       "      <td>NaN</td>\n",
       "      <td>NaN</td>\n",
       "      <td>NaN</td>\n",
       "      <td>0</td>\n",
       "      <td>2</td>\n",
       "      <td>2008</td>\n",
       "      <td>WD</td>\n",
       "      <td>Normal</td>\n",
       "      <td>208500</td>\n",
       "    </tr>\n",
       "    <tr>\n",
       "      <th>1</th>\n",
       "      <td>2</td>\n",
       "      <td>20</td>\n",
       "      <td>RL</td>\n",
       "      <td>80.0</td>\n",
       "      <td>9600</td>\n",
       "      <td>Pave</td>\n",
       "      <td>NaN</td>\n",
       "      <td>Reg</td>\n",
       "      <td>Lvl</td>\n",
       "      <td>AllPub</td>\n",
       "      <td>...</td>\n",
       "      <td>0</td>\n",
       "      <td>NaN</td>\n",
       "      <td>NaN</td>\n",
       "      <td>NaN</td>\n",
       "      <td>0</td>\n",
       "      <td>5</td>\n",
       "      <td>2007</td>\n",
       "      <td>WD</td>\n",
       "      <td>Normal</td>\n",
       "      <td>181500</td>\n",
       "    </tr>\n",
       "    <tr>\n",
       "      <th>2</th>\n",
       "      <td>3</td>\n",
       "      <td>60</td>\n",
       "      <td>RL</td>\n",
       "      <td>68.0</td>\n",
       "      <td>11250</td>\n",
       "      <td>Pave</td>\n",
       "      <td>NaN</td>\n",
       "      <td>IR1</td>\n",
       "      <td>Lvl</td>\n",
       "      <td>AllPub</td>\n",
       "      <td>...</td>\n",
       "      <td>0</td>\n",
       "      <td>NaN</td>\n",
       "      <td>NaN</td>\n",
       "      <td>NaN</td>\n",
       "      <td>0</td>\n",
       "      <td>9</td>\n",
       "      <td>2008</td>\n",
       "      <td>WD</td>\n",
       "      <td>Normal</td>\n",
       "      <td>223500</td>\n",
       "    </tr>\n",
       "    <tr>\n",
       "      <th>3</th>\n",
       "      <td>4</td>\n",
       "      <td>70</td>\n",
       "      <td>RL</td>\n",
       "      <td>60.0</td>\n",
       "      <td>9550</td>\n",
       "      <td>Pave</td>\n",
       "      <td>NaN</td>\n",
       "      <td>IR1</td>\n",
       "      <td>Lvl</td>\n",
       "      <td>AllPub</td>\n",
       "      <td>...</td>\n",
       "      <td>0</td>\n",
       "      <td>NaN</td>\n",
       "      <td>NaN</td>\n",
       "      <td>NaN</td>\n",
       "      <td>0</td>\n",
       "      <td>2</td>\n",
       "      <td>2006</td>\n",
       "      <td>WD</td>\n",
       "      <td>Abnorml</td>\n",
       "      <td>140000</td>\n",
       "    </tr>\n",
       "    <tr>\n",
       "      <th>4</th>\n",
       "      <td>5</td>\n",
       "      <td>60</td>\n",
       "      <td>RL</td>\n",
       "      <td>84.0</td>\n",
       "      <td>14260</td>\n",
       "      <td>Pave</td>\n",
       "      <td>NaN</td>\n",
       "      <td>IR1</td>\n",
       "      <td>Lvl</td>\n",
       "      <td>AllPub</td>\n",
       "      <td>...</td>\n",
       "      <td>0</td>\n",
       "      <td>NaN</td>\n",
       "      <td>NaN</td>\n",
       "      <td>NaN</td>\n",
       "      <td>0</td>\n",
       "      <td>12</td>\n",
       "      <td>2008</td>\n",
       "      <td>WD</td>\n",
       "      <td>Normal</td>\n",
       "      <td>250000</td>\n",
       "    </tr>\n",
       "  </tbody>\n",
       "</table>\n",
       "<p>5 rows × 81 columns</p>\n",
       "</div>"
      ],
      "text/plain": [
       "   Id  MSSubClass MSZoning  LotFrontage  LotArea Street Alley LotShape  \\\n",
       "0   1          60       RL         65.0     8450   Pave   NaN      Reg   \n",
       "1   2          20       RL         80.0     9600   Pave   NaN      Reg   \n",
       "2   3          60       RL         68.0    11250   Pave   NaN      IR1   \n",
       "3   4          70       RL         60.0     9550   Pave   NaN      IR1   \n",
       "4   5          60       RL         84.0    14260   Pave   NaN      IR1   \n",
       "\n",
       "  LandContour Utilities  ... PoolArea PoolQC Fence MiscFeature MiscVal MoSold  \\\n",
       "0         Lvl    AllPub  ...        0    NaN   NaN         NaN       0      2   \n",
       "1         Lvl    AllPub  ...        0    NaN   NaN         NaN       0      5   \n",
       "2         Lvl    AllPub  ...        0    NaN   NaN         NaN       0      9   \n",
       "3         Lvl    AllPub  ...        0    NaN   NaN         NaN       0      2   \n",
       "4         Lvl    AllPub  ...        0    NaN   NaN         NaN       0     12   \n",
       "\n",
       "  YrSold  SaleType  SaleCondition  SalePrice  \n",
       "0   2008        WD         Normal     208500  \n",
       "1   2007        WD         Normal     181500  \n",
       "2   2008        WD         Normal     223500  \n",
       "3   2006        WD        Abnorml     140000  \n",
       "4   2008        WD         Normal     250000  \n",
       "\n",
       "[5 rows x 81 columns]"
      ]
     },
     "execution_count": 92,
     "metadata": {},
     "output_type": "execute_result"
    }
   ],
   "source": [
    "# Check the first few rows of the data\n",
    "train_df.head() "
   ]
  },
  {
   "cell_type": "code",
   "execution_count": 93,
   "metadata": {},
   "outputs": [
    {
     "data": {
      "text/plain": [
       "RangeIndex(start=0, stop=1460, step=1)"
      ]
     },
     "execution_count": 93,
     "metadata": {},
     "output_type": "execute_result"
    }
   ],
   "source": [
    "# View index of data frame \n",
    "train_df.index "
   ]
  },
  {
   "cell_type": "code",
   "execution_count": 94,
   "metadata": {},
   "outputs": [
    {
     "data": {
      "text/plain": [
       "Index(['Id', 'MSSubClass', 'MSZoning', 'LotFrontage', 'LotArea', 'Street',\n",
       "       'Alley', 'LotShape', 'LandContour', 'Utilities', 'LotConfig',\n",
       "       'LandSlope', 'Neighborhood', 'Condition1', 'Condition2', 'BldgType',\n",
       "       'HouseStyle', 'OverallQual', 'OverallCond', 'YearBuilt', 'YearRemodAdd',\n",
       "       'RoofStyle', 'RoofMatl', 'Exterior1st', 'Exterior2nd', 'MasVnrType',\n",
       "       'MasVnrArea', 'ExterQual', 'ExterCond', 'Foundation', 'BsmtQual',\n",
       "       'BsmtCond', 'BsmtExposure', 'BsmtFinType1', 'BsmtFinSF1',\n",
       "       'BsmtFinType2', 'BsmtFinSF2', 'BsmtUnfSF', 'TotalBsmtSF', 'Heating',\n",
       "       'HeatingQC', 'CentralAir', 'Electrical', '1stFlrSF', '2ndFlrSF',\n",
       "       'LowQualFinSF', 'GrLivArea', 'BsmtFullBath', 'BsmtHalfBath', 'FullBath',\n",
       "       'HalfBath', 'BedroomAbvGr', 'KitchenAbvGr', 'KitchenQual',\n",
       "       'TotRmsAbvGrd', 'Functional', 'Fireplaces', 'FireplaceQu', 'GarageType',\n",
       "       'GarageYrBlt', 'GarageFinish', 'GarageCars', 'GarageArea', 'GarageQual',\n",
       "       'GarageCond', 'PavedDrive', 'WoodDeckSF', 'OpenPorchSF',\n",
       "       'EnclosedPorch', '3SsnPorch', 'ScreenPorch', 'PoolArea', 'PoolQC',\n",
       "       'Fence', 'MiscFeature', 'MiscVal', 'MoSold', 'YrSold', 'SaleType',\n",
       "       'SaleCondition', 'SalePrice'],\n",
       "      dtype='object')"
      ]
     },
     "execution_count": 94,
     "metadata": {},
     "output_type": "execute_result"
    }
   ],
   "source": [
    "# View columns of data frame \n",
    "train_df.columns"
   ]
  },
  {
   "cell_type": "markdown",
   "metadata": {},
   "source": [
    "## Step 3: Inspect Missing Values "
   ]
  },
  {
   "cell_type": "code",
   "execution_count": 95,
   "metadata": {},
   "outputs": [
    {
     "data": {
      "text/html": [
       "<div>\n",
       "<style scoped>\n",
       "    .dataframe tbody tr th:only-of-type {\n",
       "        vertical-align: middle;\n",
       "    }\n",
       "\n",
       "    .dataframe tbody tr th {\n",
       "        vertical-align: top;\n",
       "    }\n",
       "\n",
       "    .dataframe thead th {\n",
       "        text-align: right;\n",
       "    }\n",
       "</style>\n",
       "<table border=\"1\" class=\"dataframe\">\n",
       "  <thead>\n",
       "    <tr style=\"text-align: right;\">\n",
       "      <th></th>\n",
       "      <th>Id</th>\n",
       "      <th>MSSubClass</th>\n",
       "      <th>MSZoning</th>\n",
       "      <th>LotFrontage</th>\n",
       "      <th>LotArea</th>\n",
       "      <th>Street</th>\n",
       "      <th>Alley</th>\n",
       "      <th>LotShape</th>\n",
       "      <th>LandContour</th>\n",
       "      <th>Utilities</th>\n",
       "      <th>...</th>\n",
       "      <th>PoolArea</th>\n",
       "      <th>PoolQC</th>\n",
       "      <th>Fence</th>\n",
       "      <th>MiscFeature</th>\n",
       "      <th>MiscVal</th>\n",
       "      <th>MoSold</th>\n",
       "      <th>YrSold</th>\n",
       "      <th>SaleType</th>\n",
       "      <th>SaleCondition</th>\n",
       "      <th>SalePrice</th>\n",
       "    </tr>\n",
       "  </thead>\n",
       "  <tbody>\n",
       "    <tr>\n",
       "      <th>0</th>\n",
       "      <td>False</td>\n",
       "      <td>False</td>\n",
       "      <td>False</td>\n",
       "      <td>False</td>\n",
       "      <td>False</td>\n",
       "      <td>False</td>\n",
       "      <td>True</td>\n",
       "      <td>False</td>\n",
       "      <td>False</td>\n",
       "      <td>False</td>\n",
       "      <td>...</td>\n",
       "      <td>False</td>\n",
       "      <td>True</td>\n",
       "      <td>True</td>\n",
       "      <td>True</td>\n",
       "      <td>False</td>\n",
       "      <td>False</td>\n",
       "      <td>False</td>\n",
       "      <td>False</td>\n",
       "      <td>False</td>\n",
       "      <td>False</td>\n",
       "    </tr>\n",
       "    <tr>\n",
       "      <th>1</th>\n",
       "      <td>False</td>\n",
       "      <td>False</td>\n",
       "      <td>False</td>\n",
       "      <td>False</td>\n",
       "      <td>False</td>\n",
       "      <td>False</td>\n",
       "      <td>True</td>\n",
       "      <td>False</td>\n",
       "      <td>False</td>\n",
       "      <td>False</td>\n",
       "      <td>...</td>\n",
       "      <td>False</td>\n",
       "      <td>True</td>\n",
       "      <td>True</td>\n",
       "      <td>True</td>\n",
       "      <td>False</td>\n",
       "      <td>False</td>\n",
       "      <td>False</td>\n",
       "      <td>False</td>\n",
       "      <td>False</td>\n",
       "      <td>False</td>\n",
       "    </tr>\n",
       "    <tr>\n",
       "      <th>2</th>\n",
       "      <td>False</td>\n",
       "      <td>False</td>\n",
       "      <td>False</td>\n",
       "      <td>False</td>\n",
       "      <td>False</td>\n",
       "      <td>False</td>\n",
       "      <td>True</td>\n",
       "      <td>False</td>\n",
       "      <td>False</td>\n",
       "      <td>False</td>\n",
       "      <td>...</td>\n",
       "      <td>False</td>\n",
       "      <td>True</td>\n",
       "      <td>True</td>\n",
       "      <td>True</td>\n",
       "      <td>False</td>\n",
       "      <td>False</td>\n",
       "      <td>False</td>\n",
       "      <td>False</td>\n",
       "      <td>False</td>\n",
       "      <td>False</td>\n",
       "    </tr>\n",
       "    <tr>\n",
       "      <th>3</th>\n",
       "      <td>False</td>\n",
       "      <td>False</td>\n",
       "      <td>False</td>\n",
       "      <td>False</td>\n",
       "      <td>False</td>\n",
       "      <td>False</td>\n",
       "      <td>True</td>\n",
       "      <td>False</td>\n",
       "      <td>False</td>\n",
       "      <td>False</td>\n",
       "      <td>...</td>\n",
       "      <td>False</td>\n",
       "      <td>True</td>\n",
       "      <td>True</td>\n",
       "      <td>True</td>\n",
       "      <td>False</td>\n",
       "      <td>False</td>\n",
       "      <td>False</td>\n",
       "      <td>False</td>\n",
       "      <td>False</td>\n",
       "      <td>False</td>\n",
       "    </tr>\n",
       "    <tr>\n",
       "      <th>4</th>\n",
       "      <td>False</td>\n",
       "      <td>False</td>\n",
       "      <td>False</td>\n",
       "      <td>False</td>\n",
       "      <td>False</td>\n",
       "      <td>False</td>\n",
       "      <td>True</td>\n",
       "      <td>False</td>\n",
       "      <td>False</td>\n",
       "      <td>False</td>\n",
       "      <td>...</td>\n",
       "      <td>False</td>\n",
       "      <td>True</td>\n",
       "      <td>True</td>\n",
       "      <td>True</td>\n",
       "      <td>False</td>\n",
       "      <td>False</td>\n",
       "      <td>False</td>\n",
       "      <td>False</td>\n",
       "      <td>False</td>\n",
       "      <td>False</td>\n",
       "    </tr>\n",
       "    <tr>\n",
       "      <th>...</th>\n",
       "      <td>...</td>\n",
       "      <td>...</td>\n",
       "      <td>...</td>\n",
       "      <td>...</td>\n",
       "      <td>...</td>\n",
       "      <td>...</td>\n",
       "      <td>...</td>\n",
       "      <td>...</td>\n",
       "      <td>...</td>\n",
       "      <td>...</td>\n",
       "      <td>...</td>\n",
       "      <td>...</td>\n",
       "      <td>...</td>\n",
       "      <td>...</td>\n",
       "      <td>...</td>\n",
       "      <td>...</td>\n",
       "      <td>...</td>\n",
       "      <td>...</td>\n",
       "      <td>...</td>\n",
       "      <td>...</td>\n",
       "      <td>...</td>\n",
       "    </tr>\n",
       "    <tr>\n",
       "      <th>1455</th>\n",
       "      <td>False</td>\n",
       "      <td>False</td>\n",
       "      <td>False</td>\n",
       "      <td>False</td>\n",
       "      <td>False</td>\n",
       "      <td>False</td>\n",
       "      <td>True</td>\n",
       "      <td>False</td>\n",
       "      <td>False</td>\n",
       "      <td>False</td>\n",
       "      <td>...</td>\n",
       "      <td>False</td>\n",
       "      <td>True</td>\n",
       "      <td>True</td>\n",
       "      <td>True</td>\n",
       "      <td>False</td>\n",
       "      <td>False</td>\n",
       "      <td>False</td>\n",
       "      <td>False</td>\n",
       "      <td>False</td>\n",
       "      <td>False</td>\n",
       "    </tr>\n",
       "    <tr>\n",
       "      <th>1456</th>\n",
       "      <td>False</td>\n",
       "      <td>False</td>\n",
       "      <td>False</td>\n",
       "      <td>False</td>\n",
       "      <td>False</td>\n",
       "      <td>False</td>\n",
       "      <td>True</td>\n",
       "      <td>False</td>\n",
       "      <td>False</td>\n",
       "      <td>False</td>\n",
       "      <td>...</td>\n",
       "      <td>False</td>\n",
       "      <td>True</td>\n",
       "      <td>False</td>\n",
       "      <td>True</td>\n",
       "      <td>False</td>\n",
       "      <td>False</td>\n",
       "      <td>False</td>\n",
       "      <td>False</td>\n",
       "      <td>False</td>\n",
       "      <td>False</td>\n",
       "    </tr>\n",
       "    <tr>\n",
       "      <th>1457</th>\n",
       "      <td>False</td>\n",
       "      <td>False</td>\n",
       "      <td>False</td>\n",
       "      <td>False</td>\n",
       "      <td>False</td>\n",
       "      <td>False</td>\n",
       "      <td>True</td>\n",
       "      <td>False</td>\n",
       "      <td>False</td>\n",
       "      <td>False</td>\n",
       "      <td>...</td>\n",
       "      <td>False</td>\n",
       "      <td>True</td>\n",
       "      <td>False</td>\n",
       "      <td>False</td>\n",
       "      <td>False</td>\n",
       "      <td>False</td>\n",
       "      <td>False</td>\n",
       "      <td>False</td>\n",
       "      <td>False</td>\n",
       "      <td>False</td>\n",
       "    </tr>\n",
       "    <tr>\n",
       "      <th>1458</th>\n",
       "      <td>False</td>\n",
       "      <td>False</td>\n",
       "      <td>False</td>\n",
       "      <td>False</td>\n",
       "      <td>False</td>\n",
       "      <td>False</td>\n",
       "      <td>True</td>\n",
       "      <td>False</td>\n",
       "      <td>False</td>\n",
       "      <td>False</td>\n",
       "      <td>...</td>\n",
       "      <td>False</td>\n",
       "      <td>True</td>\n",
       "      <td>True</td>\n",
       "      <td>True</td>\n",
       "      <td>False</td>\n",
       "      <td>False</td>\n",
       "      <td>False</td>\n",
       "      <td>False</td>\n",
       "      <td>False</td>\n",
       "      <td>False</td>\n",
       "    </tr>\n",
       "    <tr>\n",
       "      <th>1459</th>\n",
       "      <td>False</td>\n",
       "      <td>False</td>\n",
       "      <td>False</td>\n",
       "      <td>False</td>\n",
       "      <td>False</td>\n",
       "      <td>False</td>\n",
       "      <td>True</td>\n",
       "      <td>False</td>\n",
       "      <td>False</td>\n",
       "      <td>False</td>\n",
       "      <td>...</td>\n",
       "      <td>False</td>\n",
       "      <td>True</td>\n",
       "      <td>True</td>\n",
       "      <td>True</td>\n",
       "      <td>False</td>\n",
       "      <td>False</td>\n",
       "      <td>False</td>\n",
       "      <td>False</td>\n",
       "      <td>False</td>\n",
       "      <td>False</td>\n",
       "    </tr>\n",
       "  </tbody>\n",
       "</table>\n",
       "<p>1460 rows × 81 columns</p>\n",
       "</div>"
      ],
      "text/plain": [
       "         Id  MSSubClass  MSZoning  LotFrontage  LotArea  Street  Alley  \\\n",
       "0     False       False     False        False    False   False   True   \n",
       "1     False       False     False        False    False   False   True   \n",
       "2     False       False     False        False    False   False   True   \n",
       "3     False       False     False        False    False   False   True   \n",
       "4     False       False     False        False    False   False   True   \n",
       "...     ...         ...       ...          ...      ...     ...    ...   \n",
       "1455  False       False     False        False    False   False   True   \n",
       "1456  False       False     False        False    False   False   True   \n",
       "1457  False       False     False        False    False   False   True   \n",
       "1458  False       False     False        False    False   False   True   \n",
       "1459  False       False     False        False    False   False   True   \n",
       "\n",
       "      LotShape  LandContour  Utilities  ...  PoolArea  PoolQC  Fence  \\\n",
       "0        False        False      False  ...     False    True   True   \n",
       "1        False        False      False  ...     False    True   True   \n",
       "2        False        False      False  ...     False    True   True   \n",
       "3        False        False      False  ...     False    True   True   \n",
       "4        False        False      False  ...     False    True   True   \n",
       "...        ...          ...        ...  ...       ...     ...    ...   \n",
       "1455     False        False      False  ...     False    True   True   \n",
       "1456     False        False      False  ...     False    True  False   \n",
       "1457     False        False      False  ...     False    True  False   \n",
       "1458     False        False      False  ...     False    True   True   \n",
       "1459     False        False      False  ...     False    True   True   \n",
       "\n",
       "      MiscFeature  MiscVal  MoSold  YrSold  SaleType  SaleCondition  SalePrice  \n",
       "0            True    False   False   False     False          False      False  \n",
       "1            True    False   False   False     False          False      False  \n",
       "2            True    False   False   False     False          False      False  \n",
       "3            True    False   False   False     False          False      False  \n",
       "4            True    False   False   False     False          False      False  \n",
       "...           ...      ...     ...     ...       ...            ...        ...  \n",
       "1455         True    False   False   False     False          False      False  \n",
       "1456         True    False   False   False     False          False      False  \n",
       "1457        False    False   False   False     False          False      False  \n",
       "1458         True    False   False   False     False          False      False  \n",
       "1459         True    False   False   False     False          False      False  \n",
       "\n",
       "[1460 rows x 81 columns]"
      ]
     },
     "execution_count": 95,
     "metadata": {},
     "output_type": "execute_result"
    }
   ],
   "source": [
    "# Check for missing values \n",
    "pd.isna(train_df)"
   ]
  },
  {
   "cell_type": "code",
   "execution_count": 96,
   "metadata": {},
   "outputs": [
    {
     "name": "stdout",
     "output_type": "stream",
     "text": [
      "Id                 0\n",
      "MSSubClass         0\n",
      "MSZoning           0\n",
      "LotFrontage      259\n",
      "LotArea            0\n",
      "                ... \n",
      "MoSold             0\n",
      "YrSold             0\n",
      "SaleType           0\n",
      "SaleCondition      0\n",
      "SalePrice          0\n",
      "Length: 81, dtype: int64\n",
      "[   0    0    0  259    0    0 1369    0    0    0    0    0    0    0\n",
      "    0    0    0    0    0    0    0    0    0    0    0  872    8    0\n",
      "    0    0   37   37   38   37    0   38    0    0    0    0    0    0\n",
      "    1    0    0    0    0    0    0    0    0    0    0    0    0    0\n",
      "    0  690   81   81   81    0    0   81   81    0    0    0    0    0\n",
      "    0    0 1453 1179 1406    0    0    0    0    0    0]\n"
     ]
    }
   ],
   "source": [
    "# Summary of missing values counts in each variable \n",
    "missing_list = pd.isna(train_df).agg(lambda x: np.sum(x)) \n",
    "print(missing_list)  # Series \n",
    "print(missing_list.values) \n",
    "\n"
   ]
  },
  {
   "cell_type": "code",
   "execution_count": 97,
   "metadata": {},
   "outputs": [
    {
     "name": "stdout",
     "output_type": "stream",
     "text": [
      "{'LotFrontage': 259, 'Alley': 1369, 'MasVnrType': 872, 'MasVnrArea': 8, 'BsmtQual': 37, 'BsmtCond': 37, 'BsmtExposure': 38, 'BsmtFinType1': 37, 'BsmtFinType2': 38, 'Electrical': 1, 'FireplaceQu': 690, 'GarageType': 81, 'GarageYrBlt': 81, 'GarageFinish': 81, 'GarageQual': 81, 'GarageCond': 81, 'PoolQC': 1453, 'Fence': 1179, 'MiscFeature': 1406}\n"
     ]
    }
   ],
   "source": [
    "# Display only variables that have missing values and counts \n",
    "var_with_na = list(missing_list[missing_list > 0].index) \n",
    "count_na = list(missing_list[missing_list > 0].values) \n",
    "\n",
    "# Create a directory with key and value representing positive variables and NA counts \n",
    "dict_na = dict(zip(var_with_na, count_na)) \n",
    "print(dict_na) \n"
   ]
  },
  {
   "cell_type": "code",
   "execution_count": 98,
   "metadata": {},
   "outputs": [],
   "source": [
    "# Check missing values by rows \n"
   ]
  },
  {
   "cell_type": "markdown",
   "metadata": {},
   "source": [
    "## Step 4: Handle Missing Data "
   ]
  },
  {
   "cell_type": "code",
   "execution_count": 99,
   "metadata": {},
   "outputs": [
    {
     "name": "stdout",
     "output_type": "stream",
     "text": [
      "        variable  na_count  na_percent\n",
      "9     Electrical         1    0.068493\n",
      "3     MasVnrArea         8    0.547945\n",
      "4       BsmtQual        37    2.534247\n",
      "5       BsmtCond        37    2.534247\n",
      "7   BsmtFinType1        37    2.534247\n",
      "6   BsmtExposure        38    2.602740\n",
      "8   BsmtFinType2        38    2.602740\n",
      "15    GarageCond        81    5.547945\n",
      "14    GarageQual        81    5.547945\n",
      "13  GarageFinish        81    5.547945\n",
      "12   GarageYrBlt        81    5.547945\n",
      "11    GarageType        81    5.547945\n",
      "0    LotFrontage       259   17.739726\n",
      "10   FireplaceQu       690   47.260274\n",
      "2     MasVnrType       872   59.726027\n",
      "17         Fence      1179   80.753425\n",
      "1          Alley      1369   93.767123\n",
      "18   MiscFeature      1406   96.301370\n",
      "16        PoolQC      1453   99.520548\n"
     ]
    }
   ],
   "source": [
    "# Treat missing values differently by variables\n",
    "# 1. Drop numeric variables is missingness > 30% \n",
    "# 2. Drop any categorical variables with missingness\n",
    "# 3. Fill median if missingness < 30% and variable is numeric (float or int)\n",
    "\n",
    "# Create a data frame with columns, including variable name, NA counts, and NA percentage \n",
    "df_series = {\n",
    "    \"variable\": dict_na.keys(),\n",
    "    \"na_count\": dict_na.values() \n",
    "}\n",
    "\n",
    "df_na = pd.DataFrame(df_series)\n",
    "# Add a column na_percent \n",
    "unique_id_count = train_df[\"Id\"].nunique() # 1460  \n",
    "df_na[\"na_percent\"] = df_na[\"na_count\"] / unique_id_count * 100 \n",
    "\n",
    "print(df_na.sort_values(by=\"na_percent\"))\n"
   ]
  },
  {
   "cell_type": "code",
   "execution_count": 100,
   "metadata": {},
   "outputs": [
    {
     "name": "stdout",
     "output_type": "stream",
     "text": [
      "         variable datatype\n",
      "0              Id    int64\n",
      "1      MSSubClass    int64\n",
      "2        MSZoning   object\n",
      "3     LotFrontage  float64\n",
      "4         LotArea    int64\n",
      "..            ...      ...\n",
      "76         MoSold    int64\n",
      "77         YrSold    int64\n",
      "78       SaleType   object\n",
      "79  SaleCondition   object\n",
      "80      SalePrice    int64\n",
      "\n",
      "[81 rows x 2 columns]\n"
     ]
    }
   ],
   "source": [
    "# Add a column \"datatype\" \n",
    "data_type = train_df.dtypes  # Check data types of variables \n",
    "df_datatype = pd.DataFrame(data_type)\n",
    "df_datatype_reset = df_datatype.reset_index() # Change index into a column \n",
    "df_datatype_reset = df_datatype_reset.rename(columns={\"index\": \"variable\", 0: \"datatype\"})  # Update column name \n",
    "print(df_datatype_reset)\n"
   ]
  },
  {
   "cell_type": "code",
   "execution_count": 101,
   "metadata": {},
   "outputs": [
    {
     "name": "stdout",
     "output_type": "stream",
     "text": [
      "        variable  na_count  na_percent datatype\n",
      "9     Electrical         1    0.068493   object\n",
      "3     MasVnrArea         8    0.547945  float64\n",
      "4       BsmtQual        37    2.534247   object\n",
      "5       BsmtCond        37    2.534247   object\n",
      "7   BsmtFinType1        37    2.534247   object\n",
      "6   BsmtExposure        38    2.602740   object\n",
      "8   BsmtFinType2        38    2.602740   object\n",
      "15    GarageCond        81    5.547945   object\n",
      "14    GarageQual        81    5.547945   object\n",
      "13  GarageFinish        81    5.547945   object\n",
      "12   GarageYrBlt        81    5.547945  float64\n",
      "11    GarageType        81    5.547945   object\n",
      "0    LotFrontage       259   17.739726  float64\n",
      "10   FireplaceQu       690   47.260274   object\n",
      "2     MasVnrType       872   59.726027   object\n",
      "17         Fence      1179   80.753425   object\n",
      "1          Alley      1369   93.767123   object\n",
      "18   MiscFeature      1406   96.301370   object\n",
      "16        PoolQC      1453   99.520548   object\n"
     ]
    }
   ],
   "source": [
    "# Join df_datatype_reset and df_na on variable \n",
    "df_na_datatype = pd.merge(df_na, \n",
    "                          df_datatype_reset, \n",
    "                          on=\"variable\", \n",
    "                          how=\"left\") \n",
    "\n",
    "print(df_na_datatype.sort_values(by=\"na_percent\")) "
   ]
  },
  {
   "cell_type": "markdown",
   "metadata": {},
   "source": [
    "The data types for variables in the data frame:\n",
    "- `int64`: Integer numbers\n",
    "- `float64`: Floating-point numbers\n",
    "- `object`: Typically used for strings\n",
    "- `bool`: Boolean values\n",
    "- `datetime64`: Date and time values\n",
    "- `category`: Categorical data"
   ]
  },
  {
   "cell_type": "code",
   "execution_count": 102,
   "metadata": {},
   "outputs": [
    {
     "name": "stdout",
     "output_type": "stream",
     "text": [
      "['Alley', 'MasVnrType', 'BsmtQual', 'BsmtCond', 'BsmtExposure', 'BsmtFinType1', 'BsmtFinType2', 'Electrical', 'FireplaceQu', 'GarageType', 'GarageFinish', 'GarageQual', 'GarageCond', 'PoolQC', 'Fence', 'MiscFeature']\n"
     ]
    }
   ],
   "source": [
    "# Find categorical variable (aka object)\n",
    "na_object_index = df_na_datatype[\"datatype\"] == \"object\"\n",
    "na_object_variables = df_na_datatype[na_object_index][\"variable\"].tolist()\n",
    "\n",
    "print(na_object_variables)"
   ]
  },
  {
   "cell_type": "code",
   "execution_count": 103,
   "metadata": {},
   "outputs": [
    {
     "name": "stdout",
     "output_type": "stream",
     "text": [
      "0      True\n",
      "1     False\n",
      "2     False\n",
      "3      True\n",
      "4     False\n",
      "5     False\n",
      "6     False\n",
      "7     False\n",
      "8     False\n",
      "9     False\n",
      "10    False\n",
      "11    False\n",
      "12     True\n",
      "13    False\n",
      "14    False\n",
      "15    False\n",
      "16    False\n",
      "17    False\n",
      "18    False\n",
      "Name: datatype, dtype: bool\n"
     ]
    }
   ],
   "source": [
    "non_object_variables = df_na_datatype[\"datatype\"] != \"object\" \n",
    "print(non_object_variables)"
   ]
  },
  {
   "cell_type": "code",
   "execution_count": 104,
   "metadata": {},
   "outputs": [
    {
     "name": "stdout",
     "output_type": "stream",
     "text": [
      "['LotFrontage', 'MasVnrArea', 'GarageYrBlt']\n"
     ]
    }
   ],
   "source": [
    "# Store the remaining variables into a list \n",
    "df_na_float = df_na_datatype[non_object_variables] \n",
    "\n",
    "na_float_variables = df_na_float[\"variable\"].values.tolist()\n",
    "print(na_float_variables)"
   ]
  },
  {
   "cell_type": "code",
   "execution_count": 105,
   "metadata": {},
   "outputs": [
    {
     "name": "stdout",
     "output_type": "stream",
     "text": [
      "(1460, 81)\n",
      "(1460, 65)\n"
     ]
    }
   ],
   "source": [
    "# Drop categorical (object) variables with missing values from train data frame \n",
    "print(train_df.shape)\n",
    "train_df_dropna = train_df.drop(columns=na_object_variables) \n",
    "print(train_df_dropna.shape) # Drop 16 categorical (object) variables \n"
   ]
  },
  {
   "cell_type": "code",
   "execution_count": 106,
   "metadata": {},
   "outputs": [
    {
     "data": {
      "text/plain": [
       "LotFrontage    259\n",
       "MasVnrArea       8\n",
       "GarageYrBlt     81\n",
       "dtype: int64"
      ]
     },
     "execution_count": 106,
     "metadata": {},
     "output_type": "execute_result"
    }
   ],
   "source": [
    "# Fill median if missingness < 30% and variable is numeric (float or int)\n",
    "sum_na = pd.isna(train_df_dropna).agg(lambda x: np.sum(x))  # NA counts before filling  \n",
    "\n",
    "sum_na[sum_na != 0] # Check variables with missing values\n"
   ]
  },
  {
   "cell_type": "code",
   "execution_count": 107,
   "metadata": {},
   "outputs": [
    {
     "data": {
      "text/plain": [
       "Series([], dtype: int64)"
      ]
     },
     "execution_count": 107,
     "metadata": {},
     "output_type": "execute_result"
    }
   ],
   "source": [
    "# Exclude categorical variables from fillna operation\n",
    "numerical_variables = df_na_float[\"variable\"].values.tolist()\n",
    "train_df_dropna[numerical_variables] = train_df_dropna[numerical_variables].fillna(train_df_dropna[numerical_variables].median(skipna=True))\n",
    "\n",
    "# print(train_df_dropna) \n",
    "sum_na2 = pd.isna(train_df_dropna).agg(lambda x: np.sum(x))  # NA counts after filling \n",
    "sum_na2[sum_na2 != 0] # Check variables with missing values \n"
   ]
  },
  {
   "cell_type": "code",
   "execution_count": 108,
   "metadata": {},
   "outputs": [
    {
     "name": "stdout",
     "output_type": "stream",
     "text": [
      "        Id  MSSubClass MSZoning  LotFrontage  LotArea Street LotShape  \\\n",
      "0        1          60       RL         65.0     8450   Pave      Reg   \n",
      "1        2          20       RL         80.0     9600   Pave      Reg   \n",
      "2        3          60       RL         68.0    11250   Pave      IR1   \n",
      "3        4          70       RL         60.0     9550   Pave      IR1   \n",
      "4        5          60       RL         84.0    14260   Pave      IR1   \n",
      "...    ...         ...      ...          ...      ...    ...      ...   \n",
      "1455  1456          60       RL         62.0     7917   Pave      Reg   \n",
      "1456  1457          20       RL         85.0    13175   Pave      Reg   \n",
      "1457  1458          70       RL         66.0     9042   Pave      Reg   \n",
      "1458  1459          20       RL         68.0     9717   Pave      Reg   \n",
      "1459  1460          20       RL         75.0     9937   Pave      Reg   \n",
      "\n",
      "     LandContour Utilities LotConfig  ... EnclosedPorch 3SsnPorch ScreenPorch  \\\n",
      "0            Lvl    AllPub    Inside  ...             0         0           0   \n",
      "1            Lvl    AllPub       FR2  ...             0         0           0   \n",
      "2            Lvl    AllPub    Inside  ...             0         0           0   \n",
      "3            Lvl    AllPub    Corner  ...           272         0           0   \n",
      "4            Lvl    AllPub       FR2  ...             0         0           0   \n",
      "...          ...       ...       ...  ...           ...       ...         ...   \n",
      "1455         Lvl    AllPub    Inside  ...             0         0           0   \n",
      "1456         Lvl    AllPub    Inside  ...             0         0           0   \n",
      "1457         Lvl    AllPub    Inside  ...             0         0           0   \n",
      "1458         Lvl    AllPub    Inside  ...           112         0           0   \n",
      "1459         Lvl    AllPub    Inside  ...             0         0           0   \n",
      "\n",
      "     PoolArea MiscVal MoSold  YrSold  SaleType  SaleCondition  SalePrice  \n",
      "0           0       0      2    2008        WD         Normal     208500  \n",
      "1           0       0      5    2007        WD         Normal     181500  \n",
      "2           0       0      9    2008        WD         Normal     223500  \n",
      "3           0       0      2    2006        WD        Abnorml     140000  \n",
      "4           0       0     12    2008        WD         Normal     250000  \n",
      "...       ...     ...    ...     ...       ...            ...        ...  \n",
      "1455        0       0      8    2007        WD         Normal     175000  \n",
      "1456        0       0      2    2010        WD         Normal     210000  \n",
      "1457        0    2500      5    2010        WD         Normal     266500  \n",
      "1458        0       0      4    2010        WD         Normal     142125  \n",
      "1459        0       0      6    2008        WD         Normal     147500  \n",
      "\n",
      "[1460 rows x 65 columns]\n"
     ]
    }
   ],
   "source": [
    "# The data frame for the following analysis, after processing missing data \n",
    "print(train_df_dropna) "
   ]
  },
  {
   "cell_type": "markdown",
   "metadata": {},
   "source": [
    "## Step 5: Identify and Handle Duplicates"
   ]
  },
  {
   "cell_type": "code",
   "execution_count": 109,
   "metadata": {},
   "outputs": [
    {
     "data": {
      "text/plain": [
       "True"
      ]
     },
     "execution_count": 109,
     "metadata": {},
     "output_type": "execute_result"
    }
   ],
   "source": [
    "# Check for and remove duplicate rows\n",
    "train_df_dropna.index.is_unique \n"
   ]
  },
  {
   "cell_type": "code",
   "execution_count": 110,
   "metadata": {},
   "outputs": [
    {
     "data": {
      "text/plain": [
       "True"
      ]
     },
     "execution_count": 110,
     "metadata": {},
     "output_type": "execute_result"
    }
   ],
   "source": [
    "# Check for and remove duplicate columns \n",
    "train_df_dropna.columns.is_unique"
   ]
  },
  {
   "cell_type": "markdown",
   "metadata": {},
   "source": [
    "## Step 6: Outlier detection and handling"
   ]
  },
  {
   "cell_type": "code",
   "execution_count": 111,
   "metadata": {},
   "outputs": [
    {
     "data": {
      "image/png": "[encoded data removed]",
      "text/plain": [
       "<Figure size 640x480 with 1 Axes>"
      ]
     },
     "metadata": {},
     "output_type": "display_data"
    }
   ],
   "source": [
    "# Use box plots to check for outliers \n",
    "# Box plot for SalePrice\n",
    "sns.boxplot(x = train_df_dropna[\"SalePrice\"])\n",
    "plt.show() \n",
    "\n",
    "\n"
   ]
  },
  {
   "cell_type": "markdown",
   "metadata": {},
   "source": [
    "Data points that lie below Q1 - 1.5IQR or above Q3 + 1.5IQR are considered outliers. "
   ]
  },
  {
   "cell_type": "code",
   "execution_count": 112,
   "metadata": {},
   "outputs": [
    {
     "name": "stdout",
     "output_type": "stream",
     "text": [
      "0       208500\n",
      "1       181500\n",
      "2       223500\n",
      "3       140000\n",
      "4       250000\n",
      "         ...  \n",
      "1455    175000\n",
      "1456    210000\n",
      "1457    266500\n",
      "1458    142125\n",
      "1459    147500\n",
      "Name: SalePrice, Length: 1460, dtype: int64\n"
     ]
    }
   ],
   "source": [
    "# IQR (Interquartile range) method \n",
    "# Subset a variable from data frame as a Series \n",
    "sales_price = train_df_dropna[\"SalePrice\"]\n",
    "print(sales_price)\n",
    "\n"
   ]
  },
  {
   "cell_type": "code",
   "execution_count": 113,
   "metadata": {},
   "outputs": [
    {
     "name": "stdout",
     "output_type": "stream",
     "text": [
      "61\n"
     ]
    }
   ],
   "source": [
    "# Apply numpy method percentile() to the Series \n",
    "q1_sales_price = np.percentile(sales_price, 25)  \n",
    "q3_sales_price = np.percentile(sales_price, 75) \n",
    "\n",
    "IQR_sales_price = q3_sales_price - q1_sales_price \n",
    "\n",
    "# Lower- and upper- bound \n",
    "lower_bound = q1_sales_price - 1.5 * IQR_sales_price\n",
    "upper_bound = q3_sales_price + 1.5 * IQR_sales_price\n",
    "outliers_sales_price = [x for x in sales_price if x < lower_bound or x > upper_bound]  \n",
    "\n",
    "print(len(outliers_sales_price))  # 61 possible outliers \n"
   ]
  },
  {
   "cell_type": "code",
   "execution_count": 114,
   "metadata": {},
   "outputs": [
    {
     "name": "stdout",
     "output_type": "stream",
     "text": [
      "Index([  11,   53,   58,  112,  151,  161,  178,  185,  224,  231,  278,  309,\n",
      "        313,  320,  321,  336,  349,  378,  389,  440,  473,  477,  481,  496,\n",
      "        515,  527,  585,  591,  608,  642,  644,  654,  661,  664,  678,  688,\n",
      "        691,  702,  718,  769,  774,  798,  803,  825,  877,  898,  987,  990,\n",
      "       1046, 1142, 1169, 1181, 1182, 1228, 1243, 1267, 1268, 1353, 1373, 1388,\n",
      "       1437],\n",
      "      dtype='int64')\n"
     ]
    }
   ],
   "source": [
    "# Detect index to outliers in sales price \n",
    "# Create a data frame with index and SalePrice for potential outliers \n",
    "outlier_potential = train_df_dropna[(train_df_dropna[\"SalePrice\"] < lower_bound) | (train_df_dropna[\"SalePrice\"] > upper_bound)] \n",
    "print(outlier_potential.index)  # Index of potential outliers"
   ]
  },
  {
   "cell_type": "code",
   "execution_count": 115,
   "metadata": {},
   "outputs": [
    {
     "name": "stdout",
     "output_type": "stream",
     "text": [
      "(1399, 65)\n"
     ]
    }
   ],
   "source": [
    "# Drop 61 possible outliers from the data frame \n",
    "train_df_dropna_clean = train_df_dropna.drop(index = outlier_potential.index)  \n",
    "print(train_df_dropna_clean.shape) # 1399 rows and 65 columns    \n"
   ]
  },
  {
   "cell_type": "code",
   "execution_count": 116,
   "metadata": {},
   "outputs": [
    {
     "data": {
      "image/png": "[encoded data removed]",
      "text/plain": [
       "<Figure size 640x480 with 1 Axes>"
      ]
     },
     "metadata": {},
     "output_type": "display_data"
    }
   ],
   "source": [
    "# Draw a box plot for SalePrice after removing outliers \n",
    "sns.boxplot(x = train_df_dropna_clean[\"SalePrice\"]) \n",
    "plt.show() "
   ]
  },
  {
   "cell_type": "code",
   "execution_count": 117,
   "metadata": {},
   "outputs": [
    {
     "data": {
      "image/png": "[encoded data removed]",
      "text/plain": [
       "<Figure size 500x500 with 1 Axes>"
      ]
     },
     "metadata": {},
     "output_type": "display_data"
    }
   ],
   "source": [
    "# Draw histogram for SalePrice before and after removing outliers \n",
    "sns.displot(x = train_df_dropna[\"SalePrice\"], bins=30, binrange=(0, 800000)) # Before removing outliers \n",
    "plt.show()\n"
   ]
  },
  {
   "cell_type": "code",
   "execution_count": 118,
   "metadata": {},
   "outputs": [
    {
     "data": {
      "image/png": "[encoded data removed]",
      "text/plain": [
       "<Figure size 500x500 with 1 Axes>"
      ]
     },
     "metadata": {},
     "output_type": "display_data"
    }
   ],
   "source": [
    "sns.displot(x = train_df_dropna_clean[\"SalePrice\"], bins=30, binrange=(0, 800000)) # After removing outliers \n",
    "plt.show()"
   ]
  },
  {
   "cell_type": "markdown",
   "metadata": {},
   "source": [
    "Investigate potential outliers for all numeric variables using the 1.5*IQR method "
   ]
  },
  {
   "cell_type": "code",
   "execution_count": 119,
   "metadata": {},
   "outputs": [],
   "source": [
    "# Identify samples outside the range of 1.5 * IQR + Q3 or Q1 - 1.5 * IQR \n",
    "# Create a function to detect outliers \n",
    "\n",
    "def detect_outlier(var):\n",
    "    # Calculate IQR based on the list, x \n",
    "    q1 = np.quantile(var, 0.25)\n",
    "    q3 = np.quantile(var, 0.75)\n",
    "    iqr = q3 - q1 \n",
    "\n",
    "    lower_bound = q1 - 1.5*iqr\n",
    "    upper_bound = q3 + 1.5*iqr \n",
    "    \n",
    "    outlier = [True if x > upper_bound or x < lower_bound else False for x in var] \n",
    "\n",
    "    return outlier \n"
   ]
  },
  {
   "cell_type": "code",
   "execution_count": 120,
   "metadata": {},
   "outputs": [
    {
     "name": "stdout",
     "output_type": "stream",
     "text": [
      "         Id  MSSubClass  LotFrontage  LotArea  OverallQual  OverallCond  \\\n",
      "0     False       False        False    False        False        False   \n",
      "1     False       False        False    False        False         True   \n",
      "2     False       False        False    False        False        False   \n",
      "3     False       False        False    False        False        False   \n",
      "4     False       False        False    False        False        False   \n",
      "...     ...         ...          ...      ...          ...          ...   \n",
      "1455  False       False        False    False        False        False   \n",
      "1456  False       False        False    False        False        False   \n",
      "1457  False       False        False    False        False         True   \n",
      "1458  False       False        False    False        False        False   \n",
      "1459  False       False        False    False        False        False   \n",
      "\n",
      "      YearBuilt  YearRemodAdd  MasVnrArea  BsmtFinSF1  ...  WoodDeckSF  \\\n",
      "0         False         False       False       False  ...       False   \n",
      "1         False         False       False       False  ...       False   \n",
      "2         False         False       False       False  ...       False   \n",
      "3         False         False       False       False  ...       False   \n",
      "4         False         False       False       False  ...       False   \n",
      "...         ...           ...         ...         ...  ...         ...   \n",
      "1455      False         False       False       False  ...       False   \n",
      "1456      False         False       False       False  ...       False   \n",
      "1457      False         False       False       False  ...       False   \n",
      "1458      False         False       False       False  ...       False   \n",
      "1459      False         False       False       False  ...        True   \n",
      "\n",
      "      OpenPorchSF  EnclosedPorch  3SsnPorch  ScreenPorch  PoolArea  MiscVal  \\\n",
      "0           False          False      False        False     False    False   \n",
      "1           False          False      False        False     False    False   \n",
      "2           False          False      False        False     False    False   \n",
      "3           False           True      False        False     False    False   \n",
      "4           False          False      False        False     False    False   \n",
      "...           ...            ...        ...          ...       ...      ...   \n",
      "1455        False          False      False        False     False    False   \n",
      "1456        False          False      False        False     False    False   \n",
      "1457        False          False      False        False     False     True   \n",
      "1458        False           True      False        False     False    False   \n",
      "1459        False          False      False        False     False    False   \n",
      "\n",
      "      MoSold  YrSold  SalePrice  \n",
      "0      False   False      False  \n",
      "1      False   False      False  \n",
      "2      False   False      False  \n",
      "3      False   False      False  \n",
      "4      False   False      False  \n",
      "...      ...     ...        ...  \n",
      "1455   False   False      False  \n",
      "1456   False   False      False  \n",
      "1457   False   False      False  \n",
      "1458   False   False      False  \n",
      "1459   False   False      False  \n",
      "\n",
      "[1399 rows x 38 columns]\n"
     ]
    }
   ],
   "source": [
    "# Apply the above function to each numeric variable, and store results in a new data frame \n",
    "df_outlier = train_df_dropna_clean.select_dtypes(include=[np.number]).apply(detect_outlier) \n",
    "\n",
    "print(df_outlier) "
   ]
  },
  {
   "cell_type": "markdown",
   "metadata": {},
   "source": [
    "`df.select_dtypes(include=[np.number]).apply(detect_outlier)`: Selects only the numeric columns in the DataFrame and applies the detect_outlier function to each column using the apply method."
   ]
  },
  {
   "cell_type": "code",
   "execution_count": 130,
   "metadata": {},
   "outputs": [
    {
     "name": "stdout",
     "output_type": "stream",
     "text": [
      "1298    12\n",
      "523      9\n",
      "197      8\n",
      "1350     7\n",
      "1386     7\n",
      "        ..\n",
      "983      0\n",
      "433      0\n",
      "431      0\n",
      "428      0\n",
      "0        0\n",
      "Length: 1399, dtype: int64\n"
     ]
    }
   ],
   "source": [
    "# Calculate count of outliers in a sample\n",
    "outlier_count = df_outlier.iloc[:, 1:].sum(axis=1, skipna=True)\n",
    "\n",
    "# Sort the series \n",
    "sorted_outlier_count = outlier_count.sort_values(ascending=False)\n",
    "\n",
    "# Display the sorted result \n",
    "print(sorted_outlier_count)\n"
   ]
  },
  {
   "cell_type": "markdown",
   "metadata": {},
   "source": [
    "Why the count values are float rather than integers? "
   ]
  },
  {
   "cell_type": "code",
   "execution_count": 128,
   "metadata": {},
   "outputs": [
    {
     "data": {
      "image/png": "[encoded data removed]",
      "text/plain": [
       "<Figure size 640x480 with 1 Axes>"
      ]
     },
     "metadata": {},
     "output_type": "display_data"
    }
   ],
   "source": [
    "# Draw a histogram to represent outlier count \n",
    "sns.histplot(sorted_outlier_count, bins=8)\n",
    "\n",
    "plt.xlabel(\"Outlier Count\")\n",
    "plt.ylabel(\"Frequency\")\n",
    "plt.title(\"Histogram of Outlier Count\")\n",
    "\n",
    "plt.show()"
   ]
  },
  {
   "cell_type": "code",
   "execution_count": 129,
   "metadata": {},
   "outputs": [
    {
     "name": "stdout",
     "output_type": "stream",
     "text": [
      "Index([1031,  159,  848,  335,  828,  961, 1328, 1310, 1030, 1190,   93,  888,\n",
      "        304,  260,  991,  635, 1230, 1173,  529,  745, 1386, 1350,  197,  523,\n",
      "       1298],\n",
      "      dtype='int64')\n"
     ]
    }
   ],
   "source": [
    "# Identify sample ID with more than 10 outliers \n",
    "sample_many_outliers = rounded_outlier_count[rounded_outlier_count >= 5].index\n",
    "\n",
    "print(sample_many_outliers)"
   ]
  },
  {
   "cell_type": "markdown",
   "metadata": {},
   "source": [
    "## Step 7: Feature Analysis and Data Visualization\n",
    "- Categorical variables: Use histogram, KDE plots or count plots \n",
    "- Numerical variables: Use correlation matrix to represent correlation analysis "
   ]
  }
 ],
 "metadata": {
  "kernelspec": {
   "display_name": "Python 3",
   "language": "python",
   "name": "python3"
  },
  "language_info": {
   "codemirror_mode": {
    "name": "ipython",
    "version": 3
   },
   "file_extension": ".py",
   "mimetype": "text/x-python",
   "name": "python",
   "nbconvert_exporter": "python",
   "pygments_lexer": "ipython3",
   "version": "3.11.3"
  }
 },
 "nbformat": 4,
 "nbformat_minor": 2
}
