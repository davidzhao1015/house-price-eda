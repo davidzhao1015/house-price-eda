{
 "cells": [
  {
   "cell_type": "markdown",
   "metadata": {},
   "source": [
    "# Exploratory Data Analysis for House Price Dataset in Kaggle \n",
    "Created on September 4, 2024 \n",
    "Author: Xin (David) Zhao \n",
    "\n",
    "Example [notebook](https://www.kaggle.com/code/pmarcelino/comprehensive-data-exploration-with-python) \n",
    "\n"
   ]
  },
  {
   "cell_type": "markdown",
   "metadata": {},
   "source": [
    "## EDA Steps\n",
    "\n",
    "1. Load data: Use `pandas` to load datasets from CSV, Excel or other forms  \n",
    "2. Initial data overview: Inspect data structure and check the first few rows, columns, and data types  \n",
    "3. Check for missing values: Identify missing values with `pandas` \n",
    "4. Handling missing data: Drop missing values, fill with mean/ median/ mode, or use more advanced methods such as KNN imputations\n",
    "5. Identify and handle duplicates: Check for and remove duplicate rows\n",
    "6. Outlier detection and handling: Use box plots or scatter plots to visually detect outliers; remove, transform, or use robust models less sensitive to outliers \n",
    "7. Feature analysis and data visualization: Visualize distribution - use histogram, KDE plots, or count plots for categorical variables; Correlation analysis - use a correlation matrix to identify relationships between numerical features \n",
    "8. Handle incorrect data types: Convert data types if necessary (eg. dates, categories)\n",
    "9. Encode categorical variables: One-hot encoding - for nominal categorical variables; Label encoding - for ordinal categorical variables \n",
    "10. Scaling and normalization: Normalize or standardize features using `StandardScaler` or `MinMaxScaler` from `scikit-learn` for better performance in some models \n",
    "11. "
   ]
  }
 ],
 "metadata": {
  "language_info": {
   "name": "python"
  }
 },
 "nbformat": 4,
 "nbformat_minor": 2
}
