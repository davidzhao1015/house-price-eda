{
 "cells": [
  {
   "cell_type": "markdown",
   "metadata": {},
   "source": [
    "# Exploratory Data Analysis for House Price Dataset in Kaggle \n",
    "Created on September 4, 2024 \n",
    "Author: Xin (David) Zhao \n",
    "\n",
    "Example [notebook](https://www.kaggle.com/code/pmarcelino/comprehensive-data-exploration-with-python) \n",
    "\n"
   ]
  },
  {
   "cell_type": "markdown",
   "metadata": {},
   "source": [
    "## EDA Steps\n",
    "\n",
    "The EDA steps ensure dataset is well-prepared for modeling. \n",
    "\n",
    "1. Load data: Use `pandas` to load datasets from CSV, Excel or other forms  \n",
    "2. Initial data overview: Inspect data structure and check the first few rows, columns, and data types  \n",
    "3. Check for missing values: Identify missing values with `pandas` \n",
    "4. Handling missing data: Drop missing values, fill with mean/ median/ mode, or use more advanced methods such as KNN imputations\n",
    "5. Identify and handle duplicates: Check for and remove duplicate rows\n",
    "6. Outlier detection and handling: Use box plots or scatter plots to visually detect outliers; remove, transform, or use robust models less sensitive to outliers \n",
    "7. Feature analysis and data visualization: Visualize distribution - use histogram, KDE plots, or count plots for categorical variables; Correlation analysis - use a correlation matrix to identify relationships between numerical features \n",
    "8. Handle incorrect data types: Convert data types if necessary (eg. dates, categories)\n",
    "9. Encode categorical variables: One-hot encoding - for nominal categorical variables; Label encoding - for ordinal categorical variables \n",
    "10. Scaling and normalization: Normalize or standardize features using `StandardScaler` or `MinMaxScaler` from `scikit-learn` for better performance in some models \n",
    "11. Feature analysis and selection: Identify features with low variance or high multicollinearity and consider removing them "
   ]
  },
  {
   "cell_type": "markdown",
   "metadata": {
    "vscode": {
     "languageId": "plaintext"
    }
   },
   "source": [
    "## Import necessary modules \n"
   ]
  },
  {
   "cell_type": "code",
   "execution_count": 2,
   "metadata": {},
   "outputs": [],
   "source": [
    "import pandas as pd \n",
    "import numpy as np\n",
    "import matplotlib.pyplot as plt "
   ]
  },
  {
   "cell_type": "markdown",
   "metadata": {
    "vscode": {
     "languageId": "plaintext"
    }
   },
   "source": [
    "## Step 1: Load Data"
   ]
  },
  {
   "cell_type": "code",
   "execution_count": null,
   "metadata": {},
   "outputs": [],
   "source": []
  }
 ],
 "metadata": {
  "kernelspec": {
   "display_name": "Python 3",
   "language": "python",
   "name": "python3"
  },
  "language_info": {
   "codemirror_mode": {
    "name": "ipython",
    "version": 3
   },
   "file_extension": ".py",
   "mimetype": "text/x-python",
   "name": "python",
   "nbconvert_exporter": "python",
   "pygments_lexer": "ipython3",
   "version": "3.11.3"
  }
 },
 "nbformat": 4,
 "nbformat_minor": 2
}
